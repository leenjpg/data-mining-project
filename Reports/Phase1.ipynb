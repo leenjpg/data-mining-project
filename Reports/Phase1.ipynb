{
  "nbformat": 4,
  "nbformat_minor": 0,
  "metadata": {
    "colab": {
      "provenance": []
    },
    "kernelspec": {
      "name": "python3",
      "display_name": "Python 3"
    },
    "language_info": {
      "name": "python"
    }
  },
  "cells": [
    {
      "cell_type": "markdown",
      "source": [
        "# IT326 project description"
      ],
      "metadata": {
        "id": "DCLYLV4PJQ2t"
      }
    },
    {
      "cell_type": "markdown",
      "source": [
        "## Dataset Description\n",
        "\n",
        "### Our Goal\n",
        "our goal is to identify patterns in the habits and symptomes in cancer patients, aiming to raise awarness regarding harmful practices.\n",
        "\n",
        "\n",
        "\n",
        "### Source of the Dataset\n",
        "- **Source**: Kaggle site\n",
        "- **Link**: [https://www.kaggle.com/datasets/rishidamarla/cancer-patients-data]( https://www.kaggle.com/datasets/rishidamarla/cancer-patients-data)\n",
        "\n",
        "### General Information\n",
        "This set shows a research on 1000(observations) cancer patients about different aspects of their lifestyle, we have 25 Attributes to discuss\n",
        "\n",
        "\n",
        "\n",
        "- Patient Id : Nominal\n",
        "\n",
        "- Age : Numeric\n",
        "\n",
        "- Gender : Binary\n",
        "\n",
        "- Air Pollution : Ordinal\n",
        "\n",
        "- Alcohol use : Ordinal\n",
        "\n",
        "- Dust Allergy : Ordinal\n",
        "\n",
        "- OccuPational Hazards : Ordinal\n",
        "\n",
        "- Genetic Risk : Ordinal\n",
        "\n",
        "- chronic Lung Disease : Ordinal\n",
        "\n",
        "- Balanced Diet : Ordinal\n",
        "\n",
        "- Obesity : Ordinal\n",
        "\n",
        "- Smoking : Ordinal\n",
        "\n",
        "- Passive Smoker : Ordinal\n",
        "\n",
        "- Chest Pain : Ordinal\n",
        "\n",
        "- Coughing of Blood : Ordinal\n",
        "\n",
        "- Fatigue : Ordinal\n",
        "\n",
        "- Weight Loss : Ordinal\n",
        "\n",
        "- Shortness of Breath : Ordinal\n",
        "\n",
        "- Wheezing : Ordinal\n",
        "\n",
        "- Swallowing Difficulty : Ordinal\n",
        "\n",
        "- Clubbing of Finger Nails : Ordinal\n",
        "\n",
        "- Frequent Cold : Ordinal\n",
        "\n",
        "- Dry Cough : Ordinal\n",
        "\n",
        "- Snoring : Ordinal\n",
        "\n",
        "- Level : Ordinal\n",
        "\n",
        "The class label is the attribute 'Level' which describes the patient's cancer level that could be 'Low', 'Medium' or 'High' .\n"
      ],
      "metadata": {
        "id": "OqctackVJwOH"
      }
    }
  ]
}
