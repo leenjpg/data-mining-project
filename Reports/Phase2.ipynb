{
  "nbformat": 4,
  "nbformat_minor": 0,
  "metadata": {
    "colab": {
      "provenance": [],
      "include_colab_link": true
    },
    "kernelspec": {
      "name": "python3",
      "display_name": "Python 3"
    },
    "language_info": {
      "name": "python"
    }
  },
  "cells": [
    {
      "cell_type": "markdown",
      "metadata": {
        "id": "view-in-github",
        "colab_type": "text"
      },
      "source": [
        "<a href=\"https://colab.research.google.com/github/Hussahx/IT326-project/blob/main/Reports/Phase.ipynb\" target=\"_parent\"><img src=\"https://colab.research.google.com/assets/colab-badge.svg\" alt=\"Open In Colab\"/></a>"
      ]
    },
    {
      "cell_type": "markdown",
      "source": [
        "# IT326 project description"
      ],
      "metadata": {
        "id": "DCLYLV4PJQ2t"
      }
    },
    {
      "cell_type": "markdown",
      "source": [
        "## Dataset Description\n",
        "\n",
        "### Our Goal\n",
        "our goal is to identify patterns in the habits and symptomes in cancer patients, aiming to raise awarness regarding harmful practices.\n",
        "\n",
        "\n",
        "\n",
        "### Source of the Dataset\n",
        "- **Source**: Kaggle site\n",
        "- **Link**: [https://www.kaggle.com/datasets/rishidamarla/cancer-patients-data]( https://www.kaggle.com/datasets/rishidamarla/cancer-patients-data)\n",
        "\n",
        "### General Information\n",
        "This set shows a research on 1000(observations) cancer patients about different aspects of their lifestyle, we have 25 Attributes to discuss\n",
        "\n",
        "\n",
        "\n",
        "- Patient Id : Nominal\n",
        "\n",
        "- Age : Numeric\n",
        "\n",
        "- Gender : Binary\n",
        "\n",
        "- Air Pollution : Ordinal\n",
        "\n",
        "- Alcohol use : Ordinal\n",
        "\n",
        "- Dust Allergy : Ordinal\n",
        "\n",
        "- OccuPational Hazards : Ordinal\n",
        "\n",
        "- Genetic Risk : Ordinal\n",
        "\n",
        "- chronic Lung Disease : Ordinal\n",
        "\n",
        "- Balanced Diet : Ordinal\n",
        "\n",
        "- Obesity : Ordinal\n",
        "\n",
        "- Smoking : Ordinal\n",
        "\n",
        "- Passive Smoker : Ordinal\n",
        "\n",
        "- Chest Pain : Ordinal\n",
        "\n",
        "- Coughing of Blood : Ordinal\n",
        "\n",
        "- Fatigue : Ordinal\n",
        "\n",
        "- Weight Loss : Ordinal\n",
        "\n",
        "- Shortness of Breath : Ordinal\n",
        "\n",
        "- Wheezing : Ordinal\n",
        "\n",
        "- Swallowing Difficulty : Ordinal\n",
        "\n",
        "- Clubbing of Finger Nails : Ordinal\n",
        "\n",
        "- Frequent Cold : Ordinal\n",
        "\n",
        "- Dry Cough : Ordinal\n",
        "\n",
        "- Snoring : Ordinal\n",
        "\n",
        "- Level : Ordinal\n",
        "\n",
        "The class label is the attribute 'Level' which describes the patient's cancer level that could be 'Low', 'Medium' or 'High' .\n"
      ],
      "metadata": {
        "id": "OqctackVJwOH"
      }
    },
    {
      "cell_type": "code",
      "source": [
        "import pandas as pd\n",
        "\n",
        "# Load the Excel file\n",
        "df = pd.read_excel(\"CancerPatientDataSets.xlsx\")\n",
        "\n",
        "# Save as CSV\n",
        "df.to_csv(\"CancerPatientDataSets.csv\", index=False)\n",
        "\n",
        "print(\"Excel file has been converted to CSV successfully!\")"
      ],
      "metadata": {
        "colab": {
          "base_uri": "https://localhost:8080/"
        },
        "id": "QukUvwiR4fKQ",
        "outputId": "8f5b843d-9543-4d5f-b88e-7d03b1a57ee1"
      },
      "execution_count": 2,
      "outputs": [
        {
          "output_type": "stream",
          "name": "stdout",
          "text": [
            "Excel file has been converted to CSV successfully!\n"
          ]
        }
      ]
    },
    {
      "cell_type": "markdown",
      "source": [
        "# Sample of the data set:\n",
        "In this step, we generated a random sample of 20 rows from the dataset to better understand the data distribution and inspect individual data points. The sample includes various features such as patient demographics, lifestyle factors, and health conditions, as shown below:\n",
        "\n",
        "1. Patient Id: Unique identifier for each patient.\n",
        "\n",
        "\n",
        "2. Age: Age of the patient.\n",
        "\n",
        "\n",
        "3. Gender: Gender of the patient (1 for male, 2 for female).\n",
        "\n",
        "\n",
        "4. Air Pollution: The level of exposure to air pollution (on a scale).\n",
        "\n",
        "\n",
        "5. Alcohol use: The level of alcohol consumption (on a scale).\n",
        "\n",
        "\n",
        "6. Dust Allergy: The severity of dust allergy (on a scale).\n",
        "\n",
        "\n",
        "7. Occupational Hazards, Genetic Risk, Chronic Lung Disease, Balanced Diet: Different lifestyle and health risk factors, scored on a scale.\n",
        "\n",
        "\n",
        "8. Fatigue, Weight Loss, Shortness of Breath, Wheezing, etc.: Symptoms related to health status, measured on a scale.\n",
        "\n",
        "\n",
        "9. Level: The final health level classification of the patient (e.g., Low, Medium, High).\n",
        "\n",
        "\n",
        "This sample helps us review the dataset more closely, revealing the variety in patient profiles, symptoms, and risk factors. It also serves as a representative subset for further analysis or modeling"
      ],
      "metadata": {
        "id": "FfCf3tXpgjHg"
      }
    },
    {
      "cell_type": "code",
      "source": [
        "import pandas as pd\n",
        "data = pd.read_excel(\"CancerPatientDataSets.xlsx\")\n",
        "sample= data.sample(n=20);\n",
        "print(sample);"
      ],
      "metadata": {
        "colab": {
          "base_uri": "https://localhost:8080/"
        },
        "id": "eIzhBWhlgpRG",
        "outputId": "d6801369-08c2-4bc1-8b26-78b34b524fdb"
      },
      "execution_count": 3,
      "outputs": [
        {
          "output_type": "stream",
          "name": "stdout",
          "text": [
            "    Patient Id  Age  Gender  Air Pollution  Alcohol use  Dust Allergy  \\\n",
            "138       P222   19       1              3            2             4   \n",
            "744       P769   46       2              1            6             7   \n",
            "88        P178   33       1              6            8             7   \n",
            "25        P120   65       1              6            8             7   \n",
            "174       P255   45       2              1            2             3   \n",
            "156       P239   42       1              2            1             2   \n",
            "914       P921   38       2              2            1             5   \n",
            "464       P516   24       1              6            8             7   \n",
            "45        P139   42       1              2            1             2   \n",
            "567       P609   39       1              4            5             6   \n",
            "815       P832   32       1              2            3             6   \n",
            "143       P227   32       2              1            6             7   \n",
            "385       P445   44       2              3            2             2   \n",
            "353       P416   24       1              6            8             7   \n",
            "217       P294   33       1              6            7             7   \n",
            "894       P903   33       1              2            4             5   \n",
            "87        P177   44       1              6            7             7   \n",
            "716       P743   18       2              3            2             1   \n",
            "388       P448   47       2              2            3             1   \n",
            "12        P109   39       2              4            5             6   \n",
            "\n",
            "     OccuPational Hazards  Genetic Risk  chronic Lung Disease  Balanced Diet  \\\n",
            "138                     2             3                     2              3   \n",
            "744                     5             3                     2              6   \n",
            "88                      7             7                     6              7   \n",
            "25                      7             7                     6              2   \n",
            "174                     4             2                     4              3   \n",
            "156                     3             4                     3              2   \n",
            "914                     3             2                     3              2   \n",
            "464                     7             6                     7              7   \n",
            "45                      3             4                     3              2   \n",
            "567                     6             5                     4              6   \n",
            "815                     7             7                     7              7   \n",
            "143                     8             7                     6              7   \n",
            "385                     1             1                     1              1   \n",
            "353                     7             6                     7              7   \n",
            "217                     7             7                     7              6   \n",
            "894                     4             3                     2              2   \n",
            "87                      7             7                     6              7   \n",
            "716                     3             2                     1              3   \n",
            "388                     3             2                     5              2   \n",
            "12                      6             5                     4              6   \n",
            "\n",
            "     ...  Fatigue  Weight Loss  Shortness of Breath  Wheezing  \\\n",
            "138  ...        4            5                    6         5   \n",
            "744  ...        3            3                    7         7   \n",
            "88   ...        9            6                    5         7   \n",
            "25   ...        2            7                    6         5   \n",
            "174  ...        4            1                    2         4   \n",
            "156  ...        1            1                    1         2   \n",
            "914  ...        6            7                    2         5   \n",
            "464  ...        5            2                    5         2   \n",
            "45   ...        1            1                    1         2   \n",
            "567  ...        5            3                    2         4   \n",
            "815  ...        2            1                    3         2   \n",
            "143  ...        3            2                    6         4   \n",
            "385  ...        2            1                    2         3   \n",
            "353  ...        5            2                    5         2   \n",
            "217  ...        8            5                    7         6   \n",
            "894  ...        3            4                    2         2   \n",
            "87   ...        5            3                    2         7   \n",
            "716  ...        2            2                    1         3   \n",
            "388  ...        3            2                    1         2   \n",
            "12   ...        5            3                    2         4   \n",
            "\n",
            "     Swallowing Difficulty  Clubbing of Finger Nails  Frequent Cold  \\\n",
            "138                      5                         4              6   \n",
            "744                      4                         8              7   \n",
            "88                       2                         4              3   \n",
            "25                       1                         9              3   \n",
            "174                      6                         5              4   \n",
            "156                      1                         2              3   \n",
            "914                      8                         1              3   \n",
            "464                      3                         2              1   \n",
            "45                       1                         2              3   \n",
            "567                      3                         1              7   \n",
            "815                      2                         1              2   \n",
            "143                      2                         3              1   \n",
            "385                      4                         2              1   \n",
            "353                      3                         2              1   \n",
            "217                      7                         8              7   \n",
            "894                      3                         1              2   \n",
            "87                       8                         2              4   \n",
            "716                      4                         4              1   \n",
            "388                      3                         1              3   \n",
            "12                       3                         1              7   \n",
            "\n",
            "     Dry Cough  Snoring   Level  \n",
            "138          5        4  Medium  \n",
            "744          7        5  Medium  \n",
            "88           1        4    High  \n",
            "25           4        2  Medium  \n",
            "174          2        5  Medium  \n",
            "156          1        2     Low  \n",
            "914          2        3  Medium  \n",
            "464          7        6    High  \n",
            "45           1        2     Low  \n",
            "567          5        6  Medium  \n",
            "815          5        1     Low  \n",
            "143          2        1  Medium  \n",
            "385          1        1     Low  \n",
            "353          7        6    High  \n",
            "217          6        2    High  \n",
            "894          3        4     Low  \n",
            "87           5        3    High  \n",
            "716          4        1     Low  \n",
            "388          4        2     Low  \n",
            "12           5        6  Medium  \n",
            "\n",
            "[20 rows x 25 columns]\n"
          ]
        }
      ]
    },
    {
      "cell_type": "markdown",
      "source": [
        "# Graphs\n",
        "In this step, we visualized various aspects of the dataset using different types of graphs to better understand the relationships between variables and their distributions.\n",
        "\n",
        "1. Age Distribution (Histogram):\n",
        "\n",
        "We created a histogram to visualize the distribution of Age in the dataset. The histogram provides insights into the frequency of different age groups, and the kernel density estimate (KDE) curve helps visualize the overall distribution shape.\n",
        "\n",
        "The graph shows how ages are spread across different bins, making it easier to identify trends in the data.\n",
        "\n",
        "\n",
        "\n",
        "2. Age vs Genetic Risk (Scatter Plot):\n",
        "\n",
        "A scatter plot was used to analyze the relationship between Age and Genetic Risk. Each point represents an individual, with the Age plotted on the x-axis and Genetic Risk on the y-axis.\n",
        "\n",
        "The plot also includes different colors based on Level, which helps in visualizing how Age correlates with Genetic Risk across different risk levels.\n",
        "\n",
        "\n",
        "\n",
        "3. Distribution of Risk Levels (Count Plot):\n",
        "\n",
        "A count plot was generated to show the distribution of Risk Levels (Low, Medium, High). This graph highlights how many individuals belong to each risk category, giving a clear overview of the distribution of health levels in the dataset.\n",
        "\n",
        "\n",
        "\n",
        "4. Gender Distribution for Each Risk Level (Pie Chart):\n",
        "\n",
        "We created pie charts to display the gender distribution for each Risk Level (Low, Medium, High). The pie charts provide insights into the gender breakdown within each risk category, making it easy to compare how the distribution of males and females varies across different health levels.\n",
        "\n",
        "The charts show the percentage of males and females within each risk level (Low, Medium, High), helping us understand the gender composition for each health classification.\n",
        "\n",
        "\n",
        "\n",
        "\n",
        "These visualizations help in quickly grasping the patterns and relationships within the data, providing valuable insights for further analysis or modeling"
      ],
      "metadata": {
        "id": "9wt6I6XsiOiI"
      }
    },
    {
      "cell_type": "code",
      "source": [
        "import pandas as pd\n",
        "import matplotlib.pyplot as plt\n",
        "import seaborn as sns\n",
        "\n",
        "# Histogram for Age distribution\n",
        "plt.figure(figsize=(6,4))\n",
        "sns.histplot(df[\"Age\"], bins=10, kde=True)\n",
        "plt.title(\"Age Distribution\")\n",
        "plt.show()"
      ],
      "metadata": {
        "colab": {
          "base_uri": "https://localhost:8080/",
          "height": 410
        },
        "id": "pLaxnJng6FZd",
        "outputId": "86bcddc2-542a-4205-f11a-c3f8c33db872"
      },
      "execution_count": 4,
      "outputs": [
        {
          "output_type": "display_data",
          "data": {
            "text/plain": [
              "<Figure size 600x400 with 1 Axes>"
            ],
            "image/png": "[encoded data removed]"
          },
          "metadata": {}
        }
      ]
    },
    {
      "cell_type": "code",
      "source": [
        "plt.figure(figsize=(6,4))\n",
        "sns.scatterplot(x=df[\"Age\"], y=df[\"Genetic Risk\"], hue=df[\"Level\"])\n",
        "plt.title(\"Age vs Genetic Risk\")\n",
        "plt.show()"
      ],
      "metadata": {
        "colab": {
          "base_uri": "https://localhost:8080/",
          "height": 410
        },
        "id": "llzLUsmJ6Mzo",
        "outputId": "7087293a-f048-4c99-af30-0a7f6476071f"
      },
      "execution_count": 5,
      "outputs": [
        {
          "output_type": "display_data",
          "data": {
            "text/plain": [
              "<Figure size 600x400 with 1 Axes>"
            ],
            "image/png": "[encoded data removed]"
          },
          "metadata": {}
        }
      ]
    },
    {
      "cell_type": "code",
      "source": [
        "plt.figure(figsize=(6,4))\n",
        "sns.countplot(x=df[\"Level\"])\n",
        "plt.title(\"Distribution of Risk Levels\")\n",
        "plt.show()"
      ],
      "metadata": {
        "colab": {
          "base_uri": "https://localhost:8080/",
          "height": 410
        },
        "id": "Tkz6M91g6RDI",
        "outputId": "a0626af5-9bfb-4d4b-b69d-6a6028f34c1d"
      },
      "execution_count": 6,
      "outputs": [
        {
          "output_type": "display_data",
          "data": {
            "text/plain": [
              "<Figure size 600x400 with 1 Axes>"
            ],
            "image/png": "[encoded data removed]"
          },
          "metadata": {}
        }
      ]
    },
    {
      "cell_type": "code",
      "source": [
        "def plot_gender_pie_chart(level, df):\n",
        "    level_data = df[df['Level'] == level]\n",
        "    gender_counts = level_data['Gender'].value_counts()\n",
        "    labels = ['Male', 'Female']\n",
        "    colors = ['lightblue', 'pink']\n",
        "\n",
        "    plt.figure(figsize=(6, 6))\n",
        "    plt.pie(gender_counts, labels=labels, autopct='%1.1f%%', startangle=90, colors=colors)\n",
        "    plt.title(f'Gender Distribution for {level} Level')\n",
        "    plt.show()\n",
        "\n",
        "# Plot pie charts for Low, Medium, and High levels\n",
        "for level in ['Low', 'Medium', 'High']:\n",
        "    plot_gender_pie_chart(level, df)\n"
      ],
      "metadata": {
        "colab": {
          "base_uri": "https://localhost:8080/",
          "height": 1000
        },
        "id": "ePTc6Qfemm3e",
        "outputId": "82c828ad-0779-4e3a-c23c-187eda0b2c2d"
      },
      "execution_count": 7,
      "outputs": [
        {
          "output_type": "display_data",
          "data": {
            "text/plain": [
              "<Figure size 600x600 with 1 Axes>"
            ],
            "image/png": "[encoded data removed]"
          },
          "metadata": {}
        },
        {
          "output_type": "display_data",
          "data": {
            "text/plain": [
              "<Figure size 600x600 with 1 Axes>"
            ],
            "image/png": "[encoded data removed]"
          },
          "metadata": {}
        },
        {
          "output_type": "display_data",
          "data": {
            "text/plain": [
              "<Figure size 600x600 with 1 Axes>"
            ],
            "image/png": "[encoded data removed]"
          },
          "metadata": {}
        }
      ]
    },
    {
      "cell_type": "code",
      "source": [],
      "metadata": {
        "id": "Eb2K5YsRAIVx"
      },
      "execution_count": null,
      "outputs": []
    },
    {
      "cell_type": "markdown",
      "source": [
        "# Missing values\n",
        "In this step, we aimed to identify any missing values in the dataset to ensure its completeness and reliability. The process involved:\n",
        "\n",
        "1. Using the isna() function combined with sum() to calculate the total number of missing values for each column.\n",
        "\n",
        "\n",
        "2. Printing the results to check which columns contain missing data.\n",
        "\n",
        "\n",
        "\n",
        "Upon completing this check, we confirmed that the dataset does not have any missing values, indicating that it is fully complete and ready for further processing without requiring imputation or handling of missing data."
      ],
      "metadata": {
        "id": "SN1umItNabwG"
      }
    },
    {
      "cell_type": "code",
      "source": [
        "missing_values=df.isna().sum()\n",
        "print(\"Number of issing values per column: \\n\")\n",
        "print(missing_values)"
      ],
      "metadata": {
        "colab": {
          "base_uri": "https://localhost:8080/"
        },
        "id": "BLYYTZu0btKk",
        "outputId": "c60ec462-467f-4e28-d3ca-9191d334fe35"
      },
      "execution_count": 8,
      "outputs": [
        {
          "output_type": "stream",
          "name": "stdout",
          "text": [
            "Number of issing values per column: \n",
            "\n",
            "Patient Id                  0\n",
            "Age                         0\n",
            "Gender                      0\n",
            "Air Pollution               0\n",
            "Alcohol use                 0\n",
            "Dust Allergy                0\n",
            "OccuPational Hazards        0\n",
            "Genetic Risk                0\n",
            "chronic Lung Disease        0\n",
            "Balanced Diet               0\n",
            "Obesity                     0\n",
            "Smoking                     0\n",
            "Passive Smoker              0\n",
            "Chest Pain                  0\n",
            "Coughing of Blood           0\n",
            "Fatigue                     0\n",
            "Weight Loss                 0\n",
            "Shortness of Breath         0\n",
            "Wheezing                    0\n",
            "Swallowing Difficulty       0\n",
            "Clubbing of Finger Nails    0\n",
            "Frequent Cold               0\n",
            "Dry Cough                   0\n",
            "Snoring                     0\n",
            "Level                       0\n",
            "dtype: int64\n"
          ]
        }
      ]
    },
    {
      "cell_type": "markdown",
      "source": [
        "The Dataset has no missing values!"
      ],
      "metadata": {
        "id": "AUpGCv_Fp2FI"
      }
    },
    {
      "cell_type": "markdown",
      "source": [
        "#Statistical summary:\n",
        "\n",
        "In this step, we generated a statistical summary of all numeric columns in the cleaned dataset using the describe() function. This summary provides essential statistical insights, including:\n",
        "\n",
        "1. Count: The total number of non-missing values for each column (all are 990, confirming no missing values).\n",
        "\n",
        "\n",
        "2. Mean: The average value for each column.\n",
        "\n",
        "\n",
        "3. Standard Deviation (std): The measure of data spread around the mean, indicating variability.\n",
        "\n",
        "\n",
        "4. Min and Max: The smallest and largest values in each column.\n",
        "\n",
        "\n",
        "5. Percentiles (25%, 50%, 75%):\n",
        "\n",
        "25% (Q1): The value below which 25% of the data lies.\n",
        "\n",
        "50% (Median): The middle value of the data.\n",
        "\n",
        "75% (Q3): The value below which 75% of the data lies.\n",
        "\n",
        "\n",
        "\n",
        "\n",
        "This summary allows us to understand the distribution, central tendency, and variability of the dataset, helping to identify trends and potential anomalies across the numeric features. It also confirms the integrity of the cleaned dataset, ready for further analysis.\n"
      ],
      "metadata": {
        "id": "YTInwZDVfH2_"
      }
    },
    {
      "cell_type": "code",
      "source": [
        "# Calculate descriptive statistics for the 'Age' column\n",
        "age_data = df['Age']\n",
        "\n",
        "# Min and Max\n",
        "min = age_data.min()\n",
        "max = age_data.max()\n",
        "\n",
        "# Mean\n",
        "mean = age_data.mean()\n",
        "\n",
        "# Median\n",
        "median = age_data.median()\n",
        "\n",
        "# Mode\n",
        "mode = age_data.mode()[0]\n",
        "\n",
        "# Quartiles\n",
        "q1 = age_data.quantile (0.25)\n",
        "q2 = age_data.quantile (0.50)\n",
        "q3 = age_data.quantile (0.75)\n",
        "\n",
        "# IQR\n",
        "iqr = q3 - q1\n",
        "\n",
        "# Variance\n",
        "variance = age_data.var()\n",
        "\n",
        "# Outliers\n",
        "lower_bound = q1 - 1.5 * iqr\n",
        "upper_bound = q3 + 1.5 * iqr\n",
        "outliers = age_data[(age_data < lower_bound) | (age_data > upper_bound)]\n",
        "outliers_table = pd.DataFrame({'Index': outliers.index, 'Outlier Age': outliers.values})\n",
        "\n",
        "# Results\n",
        "print (\"Minimum value: \", min)\n",
        "print (\"Maximum value: \", max)\n",
        "print (\"Mean: \", mean)\n",
        "print (\"Median: \", median)\n",
        "print (\"Mode: \", mode)\n",
        "print (\"Quartiles: \\n  Q1=\", q1, \"\\n  Q2=\",q2 ,\"\\n  Q3=\" ,q3 )\n",
        "print (\"IQR: \", iqr)\n",
        "print (\"Variance: \", variance)\n",
        "print (\"Outliers: \\n  Min outliers:\",lower_bound,\"\\n  Max outliers:\",upper_bound )\n",
        "print (\"Number of outliers: \", len(outliers))\n",
        "print (outliers_table)\n"
      ],
      "metadata": {
        "colab": {
          "base_uri": "https://localhost:8080/"
        },
        "id": "MlEkS4aNsC4o",
        "outputId": "27376602-bb02-494f-b433-5983067c0bfd"
      },
      "execution_count": 9,
      "outputs": [
        {
          "output_type": "stream",
          "name": "stdout",
          "text": [
            "Minimum value:  14\n",
            "Maximum value:  73\n",
            "Mean:  37.174\n",
            "Median:  36.0\n",
            "Mode:  35\n",
            "Quartiles: \n",
            "  Q1= 27.75 \n",
            "  Q2= 36.0 \n",
            "  Q3= 45.0\n",
            "IQR:  17.25\n",
            "Variance:  144.13185585585614\n",
            "Outliers: \n",
            "  Min outliers: 1.875 \n",
            "  Max outliers: 70.875\n",
            "Number of outliers:  10\n",
            "   Index  Outlier Age\n",
            "0     15           73\n",
            "1    126           73\n",
            "2    237           73\n",
            "3    348           73\n",
            "4    459           73\n",
            "5    570           73\n",
            "6    681           73\n",
            "7    792           73\n",
            "8    889           73\n",
            "9    903           73\n"
          ]
        }
      ]
    },
    {
      "cell_type": "markdown",
      "source": [
        "Patients' age range from 14 to 73, with a Mean of 37.174 and Median of 36 and Mode of 35.\n",
        "\n",
        "Its Quartiles are 27.75, 36 and 45 the IQR equals 17.25 .\n",
        "\n",
        "The Variance approximately equals 144.13 .\n",
        "\n",
        "As far for the Outliers the minimum outlier is 1.875 and the maximum outlier is 70.875, We have 10 objects with outlier values."
      ],
      "metadata": {
        "id": "urFuUn8K0Ycw"
      }
    },
    {
      "cell_type": "code",
      "source": [
        "plt.figure(figsize=(6, 8))\n",
        "plt.boxplot(age_data, patch_artist=True,\n",
        "            boxprops=dict(facecolor='lightblue', color='blue'),\n",
        "            medianprops=dict(color='blue'),\n",
        "            flierprops=dict(marker='x', color='orange', markersize=10))\n",
        "\n",
        "plt.title('Box Plot for Age')\n",
        "plt.ylabel('Age')\n",
        "plt.show()"
      ],
      "metadata": {
        "colab": {
          "base_uri": "https://localhost:8080/",
          "height": 699
        },
        "id": "pxaN9j3J4xox",
        "outputId": "d3039c02-acf7-4d92-9d83-9b1ffcd72c86"
      },
      "execution_count": 10,
      "outputs": [
        {
          "output_type": "display_data",
          "data": {
            "text/plain": [
              "<Figure size 600x800 with 1 Axes>"
            ],
            "image/png": "[encoded data removed]"
          },
          "metadata": {}
        }
      ]
    },
    {
      "cell_type": "markdown",
      "source": [
        "# Detecting and removing outliers by IQR method\n",
        "\n",
        "\n",
        "In this step, we utilized the Interquartile Range (IQR) method to identify and remove outliers from the dataset. Outliers are extreme values that could negatively impact data analysis, and handling them is essential to improve data quality. The process included:\n",
        "\n",
        "1. Defining the IQR Method:\n",
        "\n",
        "The IQR is calculated as the difference between the 75th percentile (Q3) and the 25th percentile (Q1).\n",
        "\n",
        "Outliers are defined as values below  or above .\n",
        "\n",
        "\n",
        "\n",
        "2. Selecting Numeric Columns:\n",
        "\n",
        "Excluded irrelevant columns like Patient Id and focused only on numeric columns for outlier detection.\n",
        "\n",
        "\n",
        "\n",
        "3. Iterative Outlier Removal:\n",
        "\n",
        "Applied the IQR method in a loop to ensure all outliers were removed.\n",
        "\n",
        "Counted the number of outliers removed to monitor the cleaning process.\n",
        "\n",
        "\n",
        "\n",
        "4. Results:\n",
        "\n",
        "The dataset initially had 1,000 rows.\n",
        "\n",
        "After removing 10 outliers, the final dataset contains 990 rows.\n",
        "\n",
        "\n",
        "\n",
        "\n",
        "This step ensured the dataset is free from extreme values, making it more reliable for analysis and modeling."
      ],
      "metadata": {
        "id": "_z8uiB6rdtkK"
      }
    },
    {
      "cell_type": "code",
      "source": [
        "import numpy as np\n",
        "\n",
        "# choose threshold\n",
        "threshold = 1.5\n",
        "\n",
        "# using IQR first:\n",
        "def identify_outliers(column_df):\n",
        "    q1 = np.percentile(column_df, 25)\n",
        "    q3 = np.percentile(column_df, 75)\n",
        "    iqr = q3 - q1\n",
        "    return (column_df < q1 - threshold * iqr) | (column_df > q3 + threshold * iqr)\n",
        "\n",
        "# Select numeric columns (excluding 'Patient Id' and 'Level')\n",
        "numeric_columns = df.select_dtypes(include=['int64']).columns.tolist()\n",
        "\n",
        "# removeing outliers:\n",
        "def remove_outliers(df):\n",
        "    total_outliers_removed = 0  #keeping track of # of outliers\n",
        "    for _ in range(10):  # Loop\n",
        "        outlier_mask = np.any([identify_outliers(df[col]) for col in numeric_columns], axis=0)\n",
        "        if not outlier_mask.any():\n",
        "            break\n",
        "        total_outliers_removed += outlier_mask.sum()\n",
        "        df = df[~outlier_mask].copy()  # Keep non-outlier rows\n",
        "    return df, total_outliers_removed\n",
        "\n",
        "# Apply\n",
        "print(f\"Original rows: {len(df)}\")\n",
        "df_cleaned, total_outliers_removed = remove_outliers(df)\n",
        "print(f\"Removed {total_outliers_removed} outliers\")\n",
        "print(f\"Rows after removing outliers: {len(df_cleaned)}\")\n",
        "\n",
        "df_cleaned.to_csv('noOutliers.csv', index=False)"
      ],
      "metadata": {
        "colab": {
          "base_uri": "https://localhost:8080/"
        },
        "id": "Rsr8a6WWdxXL",
        "outputId": "8571f302-f456-461f-8901-b9f5912866a3"
      },
      "execution_count": 15,
      "outputs": [
        {
          "output_type": "stream",
          "name": "stdout",
          "text": [
            "Original rows: 1000\n",
            "Removed 10 outliers\n",
            "Rows after removing outliers: 990\n"
          ]
        }
      ]
    },
    {
      "cell_type": "markdown",
      "source": [
        "# Data Summarization and Preprocessing"
      ],
      "metadata": {
        "id": "I0CvitDPYcnC"
      }
    },
    {
      "cell_type": "markdown",
      "source": [
        "In this part of the project, we focused on preparing and improving the quality of the dataset to ensure it is ready for analysis. The steps we followed are:\n",
        "\n",
        "1. Importing Necessary Libraries:\n",
        "\n",
        "We used libraries like Pandas and NumPy for data manipulation, and Matplotlib for visualization.\n",
        "\n",
        "Tools from sklearn, such as LabelEncoder for converting categorical values into numerical ones and StandardScaler for standardizing numerical data, were also imported.\n",
        "\n",
        "\n",
        "\n",
        "2. Data Processing:\n",
        "\n",
        "Handling missing values and correcting errors.\n",
        "\n",
        "Identifying and removing outliers if needed.\n",
        "\n",
        "Formatting the dataset to make it clean and consistent.\n",
        "\n",
        "\n",
        "\n",
        "\n",
        "The goal of these steps is to ensure the dataset is reliable and useful for further analysis.\n",
        "\n"
      ],
      "metadata": {
        "id": "pGRGJ7prZXOt"
      }
    },
    {
      "cell_type": "code",
      "source": [
        "#Imports\n",
        "import pandas as pd\n",
        "import numpy as np\n",
        "from sklearn.preprocessing import LabelEncoder\n",
        "from scipy import stats\n",
        "import matplotlib.pyplot as plt\n",
        "from sklearn.preprocessing import StandardScaler\n",
        "\n",
        "\n",
        "\n",
        "# Load the dataset\n",
        "CancerData= pd.read_csv('CancerPatientDataSets.csv')\n",
        "df=pd.DataFrame(CancerData)\n",
        "print(df.head())"
      ],
      "metadata": {
        "colab": {
          "base_uri": "https://localhost:8080/"
        },
        "id": "WCY1lm1waN87",
        "outputId": "ad3bad05-0bff-4d47-e98b-bffe0da59575"
      },
      "execution_count": 16,
      "outputs": [
        {
          "output_type": "stream",
          "name": "stdout",
          "text": [
            "  Patient Id  Age  Gender  Air Pollution  Alcohol use  Dust Allergy  \\\n",
            "0         P1   33       1              2            4             5   \n",
            "1        P10   17       1              3            1             5   \n",
            "2       P100   35       1              4            5             6   \n",
            "3      P1000   37       1              7            7             7   \n",
            "4       P101   46       1              6            8             7   \n",
            "\n",
            "   OccuPational Hazards  Genetic Risk  chronic Lung Disease  Balanced Diet  \\\n",
            "0                     4             3                     2              2   \n",
            "1                     3             4                     2              2   \n",
            "2                     5             5                     4              6   \n",
            "3                     7             6                     7              7   \n",
            "4                     7             7                     6              7   \n",
            "\n",
            "   ...  Fatigue  Weight Loss  Shortness of Breath  Wheezing  \\\n",
            "0  ...        3            4                    2         2   \n",
            "1  ...        1            3                    7         8   \n",
            "2  ...        8            7                    9         2   \n",
            "3  ...        4            2                    3         1   \n",
            "4  ...        3            2                    4         1   \n",
            "\n",
            "   Swallowing Difficulty  Clubbing of Finger Nails  Frequent Cold  Dry Cough  \\\n",
            "0                      3                         1              2          3   \n",
            "1                      6                         2              1          7   \n",
            "2                      1                         4              6          7   \n",
            "3                      4                         5              6          7   \n",
            "4                      4                         2              4          2   \n",
            "\n",
            "   Snoring   Level  \n",
            "0        4     Low  \n",
            "1        2  Medium  \n",
            "2        2    High  \n",
            "3        5    High  \n",
            "4        3    High  \n",
            "\n",
            "[5 rows x 25 columns]\n"
          ]
        }
      ]
    },
    {
      "cell_type": "markdown",
      "source": [
        "#Variable Transformation\n",
        "In this step, we used the LabelEncoder from the sklearn library to convert the 'Level' column from text categories to numbers. This process is important because machine learning models work better with numerical data rather than text.\n",
        "\n",
        "1. Encoding: We transformed each category (like 'low', 'medium', 'high') into a unique number (0, 1, or 2).\n",
        "\n",
        "\n",
        "2. Why?: This allows the data to be used in mathematical models, where numbers\n",
        " are required for calculations.\n",
        "\n",
        "\n",
        "3. Result: After encoding, the 'Level' column now contains numeric values instead of text, making it ready for analysis or machine learning tasks.\n"
      ],
      "metadata": {
        "id": "VSdcNIVxWCDH"
      }
    },
    {
      "cell_type": "code",
      "source": [
        "noOutliers = pd.read_csv(\"noOutliers.csv\")\n",
        "\n",
        "from sklearn.preprocessing import LabelEncoder\n",
        "\n",
        "label_encoder = LabelEncoder()\n",
        "noOutliers['Level'] = label_encoder.fit_transform(noOutliers['Level'])\n",
        "\n",
        "mapping = {0: 3, 1: 1, 2: 2}\n",
        "noOutliers['Level'] = noOutliers['Level'].map(mapping)\n",
        "\n",
        "\n",
        "class_mapping = {\"Low\": 1, \"Medium\": 2, \"High\": 3}\n",
        "\n",
        "\n",
        "print(\"Encoded class labels:\")\n",
        "print(dict(enumerate(label_encoder.classes_)))\n",
        "print(noOutliers.head()) #to view encoding changes in Level\n",
        "\n",
        "noOutliers.to_csv('encoded.csv', index=False)"
      ],
      "metadata": {
        "colab": {
          "base_uri": "https://localhost:8080/"
        },
        "id": "gdFm-gfXWFE-",
        "outputId": "29abadaa-2f5e-4167-9356-60ba5b5981d5"
      },
      "execution_count": 25,
      "outputs": [
        {
          "output_type": "stream",
          "name": "stdout",
          "text": [
            "Encoded class labels:\n",
            "{0: 'High', 1: 'Low', 2: 'Medium'}\n",
            "  Patient Id  Age  Gender  Air Pollution  Alcohol use  Dust Allergy  \\\n",
            "0         P1   33       1              2            4             5   \n",
            "1        P10   17       1              3            1             5   \n",
            "2       P100   35       1              4            5             6   \n",
            "3      P1000   37       1              7            7             7   \n",
            "4       P101   46       1              6            8             7   \n",
            "\n",
            "   OccuPational Hazards  Genetic Risk  chronic Lung Disease  Balanced Diet  \\\n",
            "0                     4             3                     2              2   \n",
            "1                     3             4                     2              2   \n",
            "2                     5             5                     4              6   \n",
            "3                     7             6                     7              7   \n",
            "4                     7             7                     6              7   \n",
            "\n",
            "   ...  Fatigue  Weight Loss  Shortness of Breath  Wheezing  \\\n",
            "0  ...        3            4                    2         2   \n",
            "1  ...        1            3                    7         8   \n",
            "2  ...        8            7                    9         2   \n",
            "3  ...        4            2                    3         1   \n",
            "4  ...        3            2                    4         1   \n",
            "\n",
            "   Swallowing Difficulty  Clubbing of Finger Nails  Frequent Cold  Dry Cough  \\\n",
            "0                      3                         1              2          3   \n",
            "1                      6                         2              1          7   \n",
            "2                      1                         4              6          7   \n",
            "3                      4                         5              6          7   \n",
            "4                      4                         2              4          2   \n",
            "\n",
            "   Snoring  Level  \n",
            "0        4      1  \n",
            "1        2      2  \n",
            "2        2      3  \n",
            "3        5      3  \n",
            "4        3      3  \n",
            "\n",
            "[5 rows x 25 columns]\n"
          ]
        }
      ]
    },
    {
      "cell_type": "markdown",
      "source": [
        "# Normalization\n",
        "In this step, we applied Z-score normalization (also known as standardization) to the numerical columns of the dataset, excluding the 'Level' column. This technique transforms the data so that it has a mean of 0 and a standard deviation of 1, making it easier for machine learning algorithms to process.\n",
        "\n",
        "1. Why normalize?: Z-score normalization ensures that each feature contributes equally to the model, regardless of its original scale. This is important when features have different units or magnitudes, as it helps improve the performance of many machine learning algorithms.\n",
        "\n",
        "\n",
        "2. How it works: Each value in the column is transformed by subtracting the mean of the column and dividing by its standard deviation.\n",
        "\n",
        "\n",
        "3. Result: After applying this transformation, all numeric features are now on a comparable scale with a mean of 0 and a standard deviation of 1, making them more suitable for machine learning models that rely on distance calculations or gradient-based optimization.\n",
        "\n",
        "\n",
        "\n",
        "This step is crucial for improving the accuracy and efficiency of machine learning algorithms."
      ],
      "metadata": {
        "id": "FSBY3XuFYjdn"
      }
    },
    {
      "cell_type": "code",
      "source": [
        "from sklearn.preprocessing import MinMaxScaler\n",
        "import pandas as pd\n",
        "\n",
        "encoded = pd.read_csv(\"encoded.csv\")\n",
        "\n",
        "numeric_columns = encoded.select_dtypes(include=['int64', 'float64']).columns.tolist()\n",
        "numeric_columns.remove(\"Level\")\n",
        "numeric_columns.remove(\"Age\")\n",
        "numeric_columns.remove(\"Gender\")\n",
        "\n",
        "# Apply Min-Max scaling to normalize values between 0 and 1\n",
        "scaler = MinMaxScaler(feature_range=(0, 1))\n",
        "encoded[numeric_columns] = scaler.fit_transform(encoded[numeric_columns])\n",
        "\n",
        "# Print normalized data\n",
        "print(\"Data after Min-Max normalization:\")\n",
        "print(encoded.head())\n",
        "\n",
        "# Save the normalized data to a new CSV file\n",
        "encoded.to_csv('normalized.csv', index=False)"
      ],
      "metadata": {
        "colab": {
          "base_uri": "https://localhost:8080/"
        },
        "id": "UQsVC5WSYnw5",
        "outputId": "41636c4e-55ae-49ab-df8d-6140f2afb929"
      },
      "execution_count": 26,
      "outputs": [
        {
          "output_type": "stream",
          "name": "stdout",
          "text": [
            "Data after Min-Max normalization:\n",
            "  Patient Id  Age  Gender  Air Pollution  Alcohol use  Dust Allergy  \\\n",
            "0         P1   33       1       0.142857     0.428571      0.571429   \n",
            "1        P10   17       1       0.285714     0.000000      0.571429   \n",
            "2       P100   35       1       0.428571     0.571429      0.714286   \n",
            "3      P1000   37       1       0.857143     0.857143      0.857143   \n",
            "4       P101   46       1       0.714286     1.000000      0.857143   \n",
            "\n",
            "   OccuPational Hazards  Genetic Risk  chronic Lung Disease  Balanced Diet  \\\n",
            "0              0.428571      0.333333              0.166667       0.166667   \n",
            "1              0.285714      0.500000              0.166667       0.166667   \n",
            "2              0.571429      0.666667              0.500000       0.833333   \n",
            "3              0.857143      0.833333              1.000000       1.000000   \n",
            "4              0.857143      1.000000              0.833333       1.000000   \n",
            "\n",
            "   ...  Fatigue  Weight Loss  Shortness of Breath  Wheezing  \\\n",
            "0  ...    0.250     0.428571                0.125  0.142857   \n",
            "1  ...    0.000     0.285714                0.750  1.000000   \n",
            "2  ...    0.875     0.857143                1.000  0.142857   \n",
            "3  ...    0.375     0.142857                0.250  0.000000   \n",
            "4  ...    0.250     0.142857                0.375  0.000000   \n",
            "\n",
            "   Swallowing Difficulty  Clubbing of Finger Nails  Frequent Cold  Dry Cough  \\\n",
            "0               0.285714                     0.000       0.166667   0.333333   \n",
            "1               0.714286                     0.125       0.000000   1.000000   \n",
            "2               0.000000                     0.375       0.833333   1.000000   \n",
            "3               0.428571                     0.500       0.833333   1.000000   \n",
            "4               0.428571                     0.125       0.500000   0.166667   \n",
            "\n",
            "    Snoring  Level  \n",
            "0  0.500000      1  \n",
            "1  0.166667      2  \n",
            "2  0.166667      3  \n",
            "3  0.666667      3  \n",
            "4  0.333333      3  \n",
            "\n",
            "[5 rows x 25 columns]\n"
          ]
        }
      ]
    },
    {
      "cell_type": "markdown",
      "source": [
        "# Discretization\n",
        "In this step, we applied discretization to the 'Age' column, converting continuous age values into categorical labels. This process involves grouping the data into distinct categories, making it easier to analyze and interpret.\n",
        "\n",
        "1. Why discretize?: Discretizing continuous data like age helps in converting it into meaningful categories that are easier to work with, especially in classification problems.\n",
        "\n",
        "\n",
        "2. How it works: We divided the 'Age' column into three categories: 'Young Adult', 'Adult', and 'Older Adult'. Each age group corresponds to a specific range of age values, and the pd.cut function is used to assign each person to one of these categories.\n",
        "\n",
        "\n",
        "3. Result: The 'Age' column now contains categorical labels (instead of numeric values), making the dataset more structured and ready for analysis, especially for models that require categorical inputs.\n",
        "\n",
        "\n",
        "\n",
        "This step helps in simplifying the data by converting continuous features into a limited number of meaningful categories, which can improve the performance and interpretation of models.\n"
      ],
      "metadata": {
        "id": "sIkBuK9YZTDO"
      }
    },
    {
      "cell_type": "code",
      "source": [
        "# Discretization code\n",
        "\n",
        "normalized = pd.read_csv(\"normalized.csv\")\n",
        "\n",
        "lAge = ['1', '2', '3']\n",
        "\n",
        "normalized['Age']= pd.qcut(normalized['Age'], q=3, labels=lAge)\n",
        "\n",
        "print(\"The Discretized data:\")\n",
        "print(normalized)\n",
        "\n",
        "normalized.to_csv('discretized.csv', index=False)"
      ],
      "metadata": {
        "colab": {
          "base_uri": "https://localhost:8080/"
        },
        "id": "XDfVBs4MZdTY",
        "outputId": "dd84310d-e9e1-4325-93d4-8fcc6a638bec"
      },
      "execution_count": 27,
      "outputs": [
        {
          "output_type": "stream",
          "name": "stdout",
          "text": [
            "The Discretized data:\n",
            "    Patient Id Age  Gender  Air Pollution  Alcohol use  Dust Allergy  \\\n",
            "0           P1   2       1       0.142857     0.428571      0.571429   \n",
            "1          P10   1       1       0.285714     0.000000      0.571429   \n",
            "2         P100   2       1       0.428571     0.571429      0.714286   \n",
            "3        P1000   2       1       0.857143     0.857143      0.857143   \n",
            "4         P101   3       1       0.714286     1.000000      0.857143   \n",
            "..         ...  ..     ...            ...          ...           ...   \n",
            "985       P995   3       1       0.714286     0.857143      0.857143   \n",
            "986       P996   2       2       0.714286     1.000000      0.857143   \n",
            "987       P997   1       2       0.428571     0.571429      0.714286   \n",
            "988       P998   1       2       0.714286     1.000000      0.857143   \n",
            "989       P999   3       1       0.714286     0.571429      0.714286   \n",
            "\n",
            "     OccuPational Hazards  Genetic Risk  chronic Lung Disease  Balanced Diet  \\\n",
            "0                0.428571      0.333333              0.166667       0.166667   \n",
            "1                0.285714      0.500000              0.166667       0.166667   \n",
            "2                0.571429      0.666667              0.500000       0.833333   \n",
            "3                0.857143      0.833333              1.000000       1.000000   \n",
            "4                0.857143      1.000000              0.833333       1.000000   \n",
            "..                    ...           ...                   ...            ...   \n",
            "985              0.857143      1.000000              0.833333       1.000000   \n",
            "986              0.857143      1.000000              0.833333       1.000000   \n",
            "987              0.571429      0.666667              0.500000       0.833333   \n",
            "988              0.857143      1.000000              0.833333       1.000000   \n",
            "989              0.571429      0.666667              0.500000       0.833333   \n",
            "\n",
            "     ...  Fatigue  Weight Loss  Shortness of Breath  Wheezing  \\\n",
            "0    ...    0.250     0.428571                0.125  0.142857   \n",
            "1    ...    0.000     0.285714                0.750  1.000000   \n",
            "2    ...    0.875     0.857143                1.000  0.142857   \n",
            "3    ...    0.375     0.142857                0.250  0.000000   \n",
            "4    ...    0.250     0.142857                0.375  0.000000   \n",
            "..   ...      ...          ...                  ...       ...   \n",
            "985  ...    0.500     0.285714                0.125  0.857143   \n",
            "986  ...    1.000     0.714286                0.500  0.857143   \n",
            "987  ...    0.875     0.857143                1.000  0.142857   \n",
            "988  ...    0.250     0.142857                0.375  0.000000   \n",
            "989  ...    0.875     0.857143                1.000  0.142857   \n",
            "\n",
            "     Swallowing Difficulty  Clubbing of Finger Nails  Frequent Cold  \\\n",
            "0                 0.285714                     0.000       0.166667   \n",
            "1                 0.714286                     0.125       0.000000   \n",
            "2                 0.000000                     0.375       0.833333   \n",
            "3                 0.428571                     0.500       0.833333   \n",
            "4                 0.428571                     0.125       0.500000   \n",
            "..                     ...                       ...            ...   \n",
            "985               1.000000                     0.125       0.500000   \n",
            "986               0.142857                     0.375       0.333333   \n",
            "987               0.000000                     0.375       0.833333   \n",
            "988               0.428571                     0.125       0.500000   \n",
            "989               0.000000                     0.375       0.833333   \n",
            "\n",
            "     Dry Cough   Snoring  Level  \n",
            "0     0.333333  0.500000      1  \n",
            "1     1.000000  0.166667      2  \n",
            "2     1.000000  0.166667      3  \n",
            "3     1.000000  0.666667      3  \n",
            "4     0.166667  0.333333      3  \n",
            "..         ...       ...    ...  \n",
            "985   0.666667  0.333333      3  \n",
            "986   0.000000  0.500000      3  \n",
            "987   1.000000  0.166667      3  \n",
            "988   0.166667  0.333333      3  \n",
            "989   1.000000  0.166667      3  \n",
            "\n",
            "[990 rows x 25 columns]\n"
          ]
        }
      ]
    },
    {
      "cell_type": "markdown",
      "source": [
        "#Feature Selection\n",
        "In this step, we performed feature selection to examine the relationship between two relevant variables: Alcohol use and Dust Allergy. By selecting these columns, we aimed to explore how strongly they are correlated. We used the corr() function to compute this correlation, providing insights into their association.\n",
        "\n",
        "1. Alcohol use: The level of alcohol consumption.\n",
        "\n",
        "\n",
        "2. Dust Allergy: The presence of a dust allergy.\n",
        "\n",
        "\n",
        "3. Smoking: The level of active smoking behavior.\n",
        "\n",
        "\n",
        "4. Passive Smoker: The level of exposure to secondhand smoke\n",
        "\n",
        "\n",
        "\n",
        "\n",
        "The result of the correlation analysis reveals the following:\n",
        "\n",
        "Count: Both variables have 990 non-missing values, confirming that there are no missing data for these columns.\n",
        "\n",
        "Correlation Value1: The correlation between Alcohol use and Dust Allergy is 0.818644. This strong positive correlation indicates that higher alcohol consumption tends to be associated with a higher likelihood of dust allergies.\n",
        "\n",
        "Correlation Value2: The correlation between Smoking and Passive Smoker is 0.761622. This strong positive correlation indicates that higher Smoking consumption tends to be associated with a higher likelihood of Passive Smoker.\n",
        "\n",
        "\n",
        "This correlation helps us understand the relationship between these two variables, guiding us in selecting features that may contribute to further analysis or model development"
      ],
      "metadata": {
        "id": "Q4IigP73apd-"
      }
    },
    {
      "cell_type": "code",
      "source": [
        "discretized = pd.read_csv(\"discretized.csv\")\n",
        "\n",
        "# Select relevant columns for correlation\n",
        "relevant_data = discretized[['Alcohol use', 'Dust Allergy']]\n",
        "\n",
        "# Compute and display the correlation\n",
        "correlation = relevant_data.corr()\n",
        "print(\"Correlation between Alcohol use and Dust Allergy:\")\n",
        "print(correlation)\n"
      ],
      "metadata": {
        "colab": {
          "base_uri": "https://localhost:8080/"
        },
        "id": "inpyVmMvTI-3",
        "outputId": "ec71930c-d57f-4fc4-9cc8-b4d630ad11a6"
      },
      "execution_count": 28,
      "outputs": [
        {
          "output_type": "stream",
          "name": "stdout",
          "text": [
            "Correlation between Alcohol use and Dust Allergy:\n",
            "              Alcohol use  Dust Allergy\n",
            "Alcohol use      1.000000      0.818286\n",
            "Dust Allergy     0.818286      1.000000\n"
          ]
        }
      ]
    },
    {
      "cell_type": "code",
      "source": [
        "# Select relevant columns for correlation\n",
        "relevant_data = discretized[['Passive Smoker', 'Smoking']]\n",
        "\n",
        "# Compute and display the correlation\n",
        "correlation = relevant_data.corr()\n",
        "print(\"Correlation between Alcohol use and Dust Allergy:\")\n",
        "print(correlation)\n",
        "\n",
        "discretized.to_csv('Processed.csv', index=False)"
      ],
      "metadata": {
        "colab": {
          "base_uri": "https://localhost:8080/"
        },
        "id": "1RUMwnHyg46k",
        "outputId": "bdfb4673-6568-49ec-f256-839e4e466cca"
      },
      "execution_count": 29,
      "outputs": [
        {
          "output_type": "stream",
          "name": "stdout",
          "text": [
            "Correlation between Alcohol use and Dust Allergy:\n",
            "                Passive Smoker   Smoking\n",
            "Passive Smoker        1.000000  0.766654\n",
            "Smoking               0.766654  1.000000\n"
          ]
        }
      ]
    }
  ]
}
